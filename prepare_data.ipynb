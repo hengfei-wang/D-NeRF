{
 "cells": [
  {
   "cell_type": "code",
   "execution_count": 2,
   "metadata": {},
   "outputs": [],
   "source": [
    "import numpy as np\n",
    "import os\n",
    "import pandas as pd\n",
    "from pprint import pprint\n",
    "import pickle as pkl\n",
    "import cv2\n",
    "import matplotlib.pyplot as plt\n",
    "%matplotlib inline"
   ]
  },
  {
   "cell_type": "code",
   "execution_count": 3,
   "metadata": {},
   "outputs": [],
   "source": [
    "pb = np.load(\"/home/hengfei/Desktop/research/D-NeRF/data/subject0000/poses_bounds.npy\")\n",
    "loop_num = 50\n",
    "pb = np.tile(pb, (loop_num, 1))\n",
    "pb_gaze = np.zeros((14*loop_num, 20))\n",
    "pb_gaze[:, :17] = pb\n",
    "cam_list = [0, 1 ,2 ,3, 4, 5, 6, 7, 8, 9, 10, 13, 16, 17]\n",
    "\n",
    "base_dir = \"/home/hengfei/Desktop/research/D-NeRF/data/subject0000\"\n",
    "frames_list = sorted(os.listdir(base_dir))\n",
    "\n",
    "csvPath = \"/home/hengfei/Desktop/research/D-NeRF/data/subject0000/subject0000.csv\"\n",
    "df = pd.read_csv(csvPath, header=None)\n",
    "\n",
    "imgs_list = []\n",
    "masks_list = []\n",
    "multi_views = True\n",
    "\n",
    "for i in range(pb_gaze.shape[0]):\n",
    "    if not multi_views:\n",
    "        pb_cam = pb_gaze[i]\n",
    "        frame = frames_list[i]\n",
    "        cam_num = i % 14\n",
    "        cam_num = cam_list[cam_num]\n",
    "        cam = f\"cam{str(cam_num).zfill(2)}.JPG\"\n",
    "        series = df[(df[0] == frame) & (df[1] == cam)].squeeze()\n",
    "        gaze_code = np.array(series[2:4]/1000, dtype=float)\n",
    "        pb_gaze[i, -3:-1] = gaze_code\n",
    "        face_code = i / 100 # set up face code according to order\n",
    "        pb_gaze[i, -1] = face_code\n",
    "\n",
    "        img = f\"cam{str(cam_num).zfill(2)}_masked.png\"\n",
    "        img_path = os.path.join(base_dir, frame, img)\n",
    "        imgs_list.append(img_path)\n",
    "        \n",
    "        mask_dir = \"/home/hengfei/Desktop/research/D-NeRF/data/xgaze/mask\"\n",
    "        mask = f\"cam{str(cam_num).zfill(2)}_mask.png\"\n",
    "        mask_path = os.path.join(mask_dir, mask)\n",
    "        masks_list.append(mask_path)\n",
    "\n",
    "    else:\n",
    "        pb_cam = pb_gaze[i]\n",
    "        frame_num = i // 14\n",
    "        face_code = frame_num / 100 # set up face code according to order\n",
    "        frame = frames_list[frame_num]\n",
    "        cam_num = i % 14\n",
    "        cam_num = cam_list[cam_num]\n",
    "        cam = f\"cam{str(cam_num).zfill(2)}.JPG\"\n",
    "        series = df[(df[0] == frame) & (df[1] == cam)].squeeze()\n",
    "        gaze_code = np.array(series[2:4]/1000, dtype=float)\n",
    "        pb_gaze[i, -3:-1] = gaze_code\n",
    "        pb_gaze[i, -1] = face_code\n",
    "\n",
    "        img = f\"cam{str(cam_num).zfill(2)}_masked.png\"\n",
    "        img_path = os.path.join(base_dir, frame, img)\n",
    "        imgs_list.append(img_path)\n",
    "\n",
    "        mask_dir = \"/home/hengfei/Desktop/research/D-NeRF/data/xgaze/mask\"\n",
    "        mask = f\"cam{str(cam_num).zfill(2)}_mask.png\"\n",
    "        mask_path = os.path.join(mask_dir, mask)\n",
    "        masks_list.append(mask_path)\n",
    "        \n",
    "\n",
    "train_set = {\"pb\": pb_gaze, \"imgs\": imgs_list, \"masks\": masks_list}\n",
    "# 不分开进行考虑了，每次进行训练数据调整的时候都直接重新生成一边就好了\n",
    "with open(f\"{base_dir}/train_set.pkl\", \"wb\") as f:\n",
    "    pkl.dump(train_set, f)\n",
    "\n",
    "# if not multi_views:\n",
    "#     with open(f\"{base_dir}/train_set.pkl\", \"wb\") as f:\n",
    "#         pkl.dump(train_set, f)\n",
    "# else:\n",
    "#     with open(f\"{base_dir}/train_set_multi_views.pkl\", \"wb\") as f:\n",
    "#         pkl.dump(train_set, f)\n",
    "\n"
   ]
  },
  {
   "cell_type": "code",
   "execution_count": 8,
   "metadata": {},
   "outputs": [
    {
     "name": "stderr",
     "output_type": "stream",
     "text": [
      "/tmp/ipykernel_3010783/755006131.py:5: DeprecationWarning: Starting with ImageIO v3 the behavior of this function will switch to that of iio.v3.imread. To keep the current behavior (and make this warning dissapear) use `import imageio.v2 as imageio` or call `imageio.v2.imread` directly.\n",
      "  img = imageio.imread(data[\"masks\"][0])\n"
     ]
    },
    {
     "data": {
      "text/plain": [
       "Array([[0., 0., 0., ..., 0., 0., 0.],\n",
       "       [0., 0., 0., ..., 0., 0., 0.],\n",
       "       [0., 0., 0., ..., 0., 0., 0.],\n",
       "       ...,\n",
       "       [0., 0., 0., ..., 0., 0., 0.],\n",
       "       [0., 0., 0., ..., 0., 0., 0.],\n",
       "       [0., 0., 0., ..., 0., 0., 0.]])"
      ]
     },
     "execution_count": 8,
     "metadata": {},
     "output_type": "execute_result"
    }
   ],
   "source": [
    "with open(f\"{base_dir}/train_set.pkl\", \"rb\") as f:\n",
    "    data = pkl.load(f)\n",
    "\n",
    "import imageio\n",
    "img = imageio.imread(data[\"masks\"][0])\n",
    "img/255."
   ]
  },
  {
   "cell_type": "code",
   "execution_count": 10,
   "metadata": {},
   "outputs": [],
   "source": [
    "# copy training images to a new dir\n",
    "\n",
    "import shutil\n",
    "\n",
    "with open(f\"{base_dir}/train_set.pkl\", \"rb\") as f:\n",
    "    train_data = pkl.load(f)\n",
    "\n",
    "img_list = train_data[\"imgs\"]\n",
    "img_dir = \"/home/hengfei/Desktop/research/D-NeRF/data/xgaze\"\n",
    "if not os.path.exists(img_dir):\n",
    "    os.mkdir(img_dir)\n",
    "for img_path in img_list:\n",
    "    path_str = img_path.split(\"/\")\n",
    "    target_path = f\"{img_dir}/{path_str[-2]}_{path_str[-1]}\"\n",
    "    # print(target_path)\n",
    "    shutil.copyfile(img_path, target_path)\n"
   ]
  },
  {
   "cell_type": "code",
   "execution_count": 12,
   "metadata": {},
   "outputs": [
    {
     "data": {
      "text/plain": [
       "<matplotlib.image.AxesImage at 0x7f9398bd9d60>"
      ]
     },
     "execution_count": 12,
     "metadata": {},
     "output_type": "execute_result"
    },
    {
     "data": {
      "image/png": "[encoded data removed]",
      "text/plain": [
       "<Figure size 432x288 with 1 Axes>"
      ]
     },
     "metadata": {
      "needs_background": "light"
     },
     "output_type": "display_data"
    }
   ],
   "source": [
    "# split eye and face according to json file\n",
    "import json\n",
    "\n",
    "img_dir = \"/home/hengfei/Desktop/research/D-NeRF/data/xgaze/images\"\n",
    "annotation_dir = \"/home/hengfei/Desktop/research/D-NeRF/data/xgaze/annotions\"\n",
    "\n",
    "img_list = sorted(os.listdir(img_dir))\n",
    "annotation_list = sorted(os.listdir(annotation_dir))[:14]\n",
    "\n",
    "polygon_list = []\n",
    "for json_file in annotation_list:\n",
    "    with open(f\"{annotation_dir}/{json_file}\", \"r\") as f:\n",
    "        load_dict = json.load(f)\n",
    "    polygon = np.array(load_dict[\"shapes\"][0][\"points\"], dtype=np.int32)\n",
    "    polygon_list.append(polygon)\n",
    "    mask = np.zeros((512, 512), dtype=\"uint8\")\n",
    "    # cv2.polylines(mask, polygon)\n",
    "    cv2.fillPoly(mask, [polygon], 255)\n",
    "\n",
    "    mask_dir = \"/home/hengfei/Desktop/research/D-NeRF/data/xgaze/mask\"\n",
    "    if not os.path.exists(mask_dir):\n",
    "        os.mkdir(mask_dir)\n",
    "    json_str = json_file.split(\"_\")\n",
    "    mask_name = f\"{json_str[1]}_mask.png\"\n",
    "    cv2.imwrite(f\"{mask_dir}/{mask_name}\", mask)\n",
    "\n",
    "plt.imshow(mask)\n",
    "    "
   ]
  },
  {
   "cell_type": "code",
   "execution_count": 12,
   "metadata": {},
   "outputs": [
    {
     "data": {
      "text/plain": [
       "255"
      ]
     },
     "execution_count": 12,
     "metadata": {},
     "output_type": "execute_result"
    }
   ],
   "source": [
    "mask_path = \"/home/hengfei/Desktop/research/D-NeRF/data/xgaze/mask/cam00_mask.png\"\n",
    "mask = cv2.imread(mask_path)\n",
    "mask.max()"
   ]
  },
  {
   "cell_type": "code",
   "execution_count": null,
   "metadata": {},
   "outputs": [
    {
     "ename": "",
     "evalue": "",
     "output_type": "error",
     "traceback": [
      "\u001b[1;31mThe Kernel crashed while executing code in the the current cell or a previous cell. Please review the code in the cell(s) to identify a possible cause of the failure. Click <a href='https://aka.ms/vscodeJupyterKernelCrash'>here</a> for more info. View Jupyter <a href='command:jupyter.viewOutput'>log</a> for further details."
     ]
    }
   ],
   "source": [
    "# check face landmarks in xgaze\n",
    "csvPath = \"/home/hengfei/Desktop/research/D-NeRF/data/subject0000/subject0000.csv\"\n",
    "df = pd.read_csv(csvPath, header=None)\n",
    "\n",
    "landmarks = df.iloc[0,13:]\n",
    "landmarks = landmarks.to_numpy()\n",
    "\n",
    "img_path = \"/home/hengfei/Desktop/research/datasets/subject0000/frame0000/cam00.JPG\"\n",
    "img = cv2.imread(img_path)\n",
    "# for i in range(2):\n",
    "#     cv2.circle(img, (int(landmarks[i*2]), int(landmarks[i*2+1])), 20, (255,0,0), -1)\n",
    "\n",
    "cv2.imshow(\"img\", img)"
   ]
  }
 ],
 "metadata": {
  "kernelspec": {
   "display_name": "Python 3.9.12 ('base')",
   "language": "python",
   "name": "python3"
  },
  "language_info": {
   "codemirror_mode": {
    "name": "ipython",
    "version": 3
   },
   "file_extension": ".py",
   "mimetype": "text/x-python",
   "name": "python",
   "nbconvert_exporter": "python",
   "pygments_lexer": "ipython3",
   "version": "3.9.12"
  },
  "orig_nbformat": 4,
  "vscode": {
   "interpreter": {
    "hash": "37acb9dd45f8439701e05d50e3f0ea88218c50db0b26e93ec2facf781f2352d6"
   }
  }
 },
 "nbformat": 4,
 "nbformat_minor": 2
}
